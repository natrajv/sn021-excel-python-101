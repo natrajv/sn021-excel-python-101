{
 "cells": [
  {
   "cell_type": "code",
   "execution_count": 8,
   "id": "485eabd7-5440-4206-b3e7-fc2f922aed80",
   "metadata": {},
   "outputs": [],
   "source": [
    "import pandas as pd\n",
    "df = pd.DataFrame()"
   ]
  },
  {
   "cell_type": "code",
   "execution_count": 11,
   "id": "b2aac6e4-57a0-401a-b5fb-22e4f5e5ca0d",
   "metadata": {},
   "outputs": [],
   "source": [
    "df = pd.read_excel('db/jee-mains.xlsx')"
   ]
  },
  {
   "cell_type": "code",
   "execution_count": 15,
   "id": "db30da17-043d-469c-99ff-0ce16b7adf5c",
   "metadata": {},
   "outputs": [
    {
     "name": "stdout",
     "output_type": "stream",
     "text": [
      "   Year  Exam_Date                Name Category Sex          State  \\\n",
      "0  2013 2013-04-21    Tristan Bhandari  General   F  Uttar Pradesh   \n",
      "1  2013 2013-04-18  Rehaan Rajagopalan  General   M      Rajasthan   \n",
      "\n",
      "   Maths_Marks  Physics_Marks  Chemistry_Marks  Total_Marks  Rank  Percentile  \n",
      "0           75             83               48          206    78   51.572327  \n",
      "1           71             85               62          218    66   59.119497  \n"
     ]
    }
   ],
   "source": [
    "print(df.head(2))"
   ]
  },
  {
   "cell_type": "code",
   "execution_count": 18,
   "id": "ea384265-cb11-417c-8094-35c43b7e34e8",
   "metadata": {},
   "outputs": [
    {
     "name": "stdout",
     "output_type": "stream",
     "text": [
      "       Year  Exam_Date           Name  Category Sex        State  Maths_Marks  \\\n",
      "25998  2025 2025-04-16  Aadhya Sankar  Reserved   M  West Bengal           65   \n",
      "25999  2025 2025-04-17  Samarth Dugar   General   M    Rajasthan           78   \n",
      "\n",
      "       Physics_Marks  Chemistry_Marks  Total_Marks  Rank  Percentile  \n",
      "25998             99               61          225    51   65.753425  \n",
      "25999             49               50          177   104   34.394904  \n"
     ]
    }
   ],
   "source": [
    "print(df.tail(2))"
   ]
  },
  {
   "cell_type": "code",
   "execution_count": 19,
   "id": "53ce90fc-a82b-4d3a-bd3a-9be6efc87b6f",
   "metadata": {},
   "outputs": [
    {
     "name": "stdout",
     "output_type": "stream",
     "text": [
      "(26000, 12)\n"
     ]
    }
   ],
   "source": [
    "print(df.shape)"
   ]
  },
  {
   "cell_type": "code",
   "execution_count": 20,
   "id": "1e4319a0-6eb9-4e9d-a359-7a2c3b109083",
   "metadata": {},
   "outputs": [
    {
     "name": "stdout",
     "output_type": "stream",
     "text": [
      "<bound method DataFrame.info of        Year  Exam_Date                Name  Category Sex           State  \\\n",
      "0      2013 2013-04-21    Tristan Bhandari   General   F   Uttar Pradesh   \n",
      "1      2013 2013-04-18  Rehaan Rajagopalan   General   M       Rajasthan   \n",
      "2      2013 2013-04-19     Yatin Natarajan   General   F       Rajasthan   \n",
      "3      2013 2013-04-21        Peter Bhalla  Reserved   F   Uttar Pradesh   \n",
      "4      2013 2013-04-17       Jairaj Mannan   General   M         Gujarat   \n",
      "...     ...        ...                 ...       ...  ..             ...   \n",
      "25995  2025 2025-04-17  Ronith Chakraborty   General   M     West Bengal   \n",
      "25996  2025 2025-04-17        Mitali Nayak   General   M   Uttar Pradesh   \n",
      "25997  2025 2025-04-18     Ijaya Sabharwal  Reserved   F  Madhya Pradesh   \n",
      "25998  2025 2025-04-16       Aadhya Sankar  Reserved   M     West Bengal   \n",
      "25999  2025 2025-04-17       Samarth Dugar   General   M       Rajasthan   \n",
      "\n",
      "       Maths_Marks  Physics_Marks  Chemistry_Marks  Total_Marks  Rank  \\\n",
      "0               75             83               48          206    78   \n",
      "1               71             85               62          218    66   \n",
      "2               67             94               73          234    50   \n",
      "3               52             71               66          189    85   \n",
      "4               40             65               65          170   114   \n",
      "...            ...            ...              ...          ...   ...   \n",
      "25995           70             89               41          200    81   \n",
      "25996           74             51               58          183    98   \n",
      "25997           41             87               32          160   116   \n",
      "25998           65             99               61          225    51   \n",
      "25999           78             49               50          177   104   \n",
      "\n",
      "       Percentile  \n",
      "0       51.572327  \n",
      "1       59.119497  \n",
      "2       69.182390  \n",
      "3       39.130435  \n",
      "4       28.930818  \n",
      "...           ...  \n",
      "25995   49.044586  \n",
      "25996   38.216561  \n",
      "25997   21.232877  \n",
      "25998   65.753425  \n",
      "25999   34.394904  \n",
      "\n",
      "[26000 rows x 12 columns]>\n"
     ]
    }
   ],
   "source": [
    "print(df.info)"
   ]
  },
  {
   "cell_type": "code",
   "execution_count": 21,
   "id": "50afeed2-d77c-42f7-a037-ca8fc4c3f4d9",
   "metadata": {},
   "outputs": [
    {
     "name": "stdout",
     "output_type": "stream",
     "text": [
      "<bound method NDFrame.describe of        Year  Exam_Date                Name  Category Sex           State  \\\n",
      "0      2013 2013-04-21    Tristan Bhandari   General   F   Uttar Pradesh   \n",
      "1      2013 2013-04-18  Rehaan Rajagopalan   General   M       Rajasthan   \n",
      "2      2013 2013-04-19     Yatin Natarajan   General   F       Rajasthan   \n",
      "3      2013 2013-04-21        Peter Bhalla  Reserved   F   Uttar Pradesh   \n",
      "4      2013 2013-04-17       Jairaj Mannan   General   M         Gujarat   \n",
      "...     ...        ...                 ...       ...  ..             ...   \n",
      "25995  2025 2025-04-17  Ronith Chakraborty   General   M     West Bengal   \n",
      "25996  2025 2025-04-17        Mitali Nayak   General   M   Uttar Pradesh   \n",
      "25997  2025 2025-04-18     Ijaya Sabharwal  Reserved   F  Madhya Pradesh   \n",
      "25998  2025 2025-04-16       Aadhya Sankar  Reserved   M     West Bengal   \n",
      "25999  2025 2025-04-17       Samarth Dugar   General   M       Rajasthan   \n",
      "\n",
      "       Maths_Marks  Physics_Marks  Chemistry_Marks  Total_Marks  Rank  \\\n",
      "0               75             83               48          206    78   \n",
      "1               71             85               62          218    66   \n",
      "2               67             94               73          234    50   \n",
      "3               52             71               66          189    85   \n",
      "4               40             65               65          170   114   \n",
      "...            ...            ...              ...          ...   ...   \n",
      "25995           70             89               41          200    81   \n",
      "25996           74             51               58          183    98   \n",
      "25997           41             87               32          160   116   \n",
      "25998           65             99               61          225    51   \n",
      "25999           78             49               50          177   104   \n",
      "\n",
      "       Percentile  \n",
      "0       51.572327  \n",
      "1       59.119497  \n",
      "2       69.182390  \n",
      "3       39.130435  \n",
      "4       28.930818  \n",
      "...           ...  \n",
      "25995   49.044586  \n",
      "25996   38.216561  \n",
      "25997   21.232877  \n",
      "25998   65.753425  \n",
      "25999   34.394904  \n",
      "\n",
      "[26000 rows x 12 columns]>\n"
     ]
    }
   ],
   "source": [
    "print(df.describe)"
   ]
  },
  {
   "cell_type": "code",
   "execution_count": 22,
   "id": "89378bf5-1350-4e5b-82c8-76e1d31dd5b7",
   "metadata": {},
   "outputs": [
    {
     "name": "stdout",
     "output_type": "stream",
     "text": [
      "Index(['Year', 'Exam_Date', 'Name', 'Category', 'Sex', 'State', 'Maths_Marks',\n",
      "       'Physics_Marks', 'Chemistry_Marks', 'Total_Marks', 'Rank',\n",
      "       'Percentile'],\n",
      "      dtype='object')\n"
     ]
    }
   ],
   "source": [
    "print(df.columns)"
   ]
  },
  {
   "cell_type": "code",
   "execution_count": 23,
   "id": "c4e54001-665d-420e-bb3c-ce59ed7d92b2",
   "metadata": {},
   "outputs": [
    {
     "name": "stdout",
     "output_type": "stream",
     "text": [
      "RangeIndex(start=0, stop=26000, step=1)\n"
     ]
    }
   ],
   "source": [
    "print(df.index)"
   ]
  }
 ],
 "metadata": {
  "kernelspec": {
   "display_name": "sn021",
   "language": "python",
   "name": "sn021"
  },
  "language_info": {
   "codemirror_mode": {
    "name": "ipython",
    "version": 3
   },
   "file_extension": ".py",
   "mimetype": "text/x-python",
   "name": "python",
   "nbconvert_exporter": "python",
   "pygments_lexer": "ipython3",
   "version": "3.13.7"
  }
 },
 "nbformat": 4,
 "nbformat_minor": 5
}
